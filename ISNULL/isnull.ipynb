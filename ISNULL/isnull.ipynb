{
 "cells": [
  {
   "cell_type": "markdown",
   "metadata": {},
   "source": [
    "2024-08-05\n",
    "\n",
    "\n",
    "[경기도에 위치한 식품창고 목록 출력하기](https://school.programmers.co.kr/learn/courses/30/lessons/131114)\n",
    "\n",
    "\n",
    "```SQL\n",
    "SELECT WAREHOUSE_ID, WAREHOUSE_NAME, ADDRESS, IF(FREEZER_YN IS NULL, \"N\", FREEZER_YN)\n",
    "FROM FOOD_WAREHOUSE\n",
    "WHERE WAREHOUSE_NAME LIKE \"%경기%\"\n",
    "ORDER BY WAREHOUSE_ID;\n",
    "```\n",
    "\n",
    "[이름이 없는 동물의 아이디](https://school.programmers.co.kr/learn/courses/30/lessons/59039)\n",
    "\n",
    "\n",
    "```SQL\n",
    "SELECT ANIMAL_ID\n",
    "FROM ANIMAL_INS\n",
    "WHERE NAME IS NULL\n",
    "ORDER BY ANIMAL_ID;\n",
    "```\n",
    "\n",
    "[이름이 있는 동물의 아이디](https://school.programmers.co.kr/learn/courses/30/lessons/59407)\n",
    "\n",
    "\n",
    "```SQL\n",
    "-- 오답\n",
    "SELECT ANIMAL_TYPE,\tIF(NAME IS NULL, \"NO name\", NAME) NAME\t, SEX_UPON_INTAKE\n",
    "FROM ANIMAL_INS\n",
    "ORDER BY ANIMAL_ID;\n",
    "```\n",
    "\n",
    "\n",
    "\n",
    "```SQL\n",
    "-- 성공\n",
    "SELECT ANIMAL_TYPE, IFNULL(NAME, 'No name'), SEX_UPON_INTAKE\n",
    "FROM ANIMAL_INS\n",
    "ORDER BY ANIMAL_ID;\n",
    "```\n",
    "\n",
    "[나이 정보가 없는 회원 수 구하기](https://school.programmers.co.kr/learn/courses/30/lessons/131528)\n",
    "\n",
    "```SQL\n",
    "-- 성공\n",
    "SELECT COUNT(USER_ID) USERS\n",
    "FROM USER_INFO\n",
    "WHERE AGE IS NULL;\n",
    "```"
   ]
  },
  {
   "cell_type": "markdown",
   "metadata": {},
   "source": []
  }
 ],
 "metadata": {
  "language_info": {
   "name": "python"
  }
 },
 "nbformat": 4,
 "nbformat_minor": 2
}
