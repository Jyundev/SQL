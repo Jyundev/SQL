{
 "cells": [
  {
   "cell_type": "markdown",
   "metadata": {},
   "source": [
    "2024-07-30"
   ]
  },
  {
   "cell_type": "markdown",
   "metadata": {
    "vscode": {
     "languageId": "plaintext"
    }
   },
   "source": [
    "[평균 일일 대여 요금 구하기 ](https://school.programmers.co.kr/learn/courses/30/lessons/151136)\n",
    "\n",
    "```SQL\n",
    "SELECT ROUND(AVG(DAILY_FEE)) AVERAGE_FEE \n",
    "FROM CAR_RENTAL_COMPANY_CAR \n",
    "WHERE CAR_TYPE like \"SUV\"\n",
    "```\n",
    "\n",
    "<br>\n",
    "\n",
    "[재구매가 일어난 상품과 회원 리스트 구하기](https://school.programmers.co.kr/learn/courses/30/lessons/131536)\n",
    "\n",
    "COUNT(컬럼) - NULL 값이 들어간 행은 카운트하지 않습니다.\n",
    "\n",
    "COUNT(*) - NULL 값에 상관없이 모든 행을 카운트합니다.\n",
    "\n",
    "두 함수 모두 테이블의 행 수를 세는 데 사용\n",
    "\n",
    "\n",
    "```SQL\n",
    "SELECT USER_ID, PRODUCT_ID\n",
    "FROM ONLINE_SALE \n",
    "GROUP BY USER_ID, PRODUCT_ID\n",
    "HAVING COUNT(*) >= 2\n",
    "ORDER BY USER_ID ASC, PRODUCT_ID DESC;\n",
    "```\n",
    "\n",
    "<br>\n",
    "\n",
    "\n",
    "[역순 정렬하기](https://school.programmers.co.kr/learn/courses/30/lessons/59035)\n",
    "\n",
    "```SQL\n",
    "-- 코드를 입력하세요\n",
    "SELECT NAME, DATETIME\n",
    "FROM ANIMAL_INS \n",
    "ORDER BY ANIMAL_ID DESC;\n",
    "```\n",
    "\n",
    "<br>\n",
    "\n",
    "[아픈 동물 찾기](https://school.programmers.co.kr/learn/courses/30/lessons/59036)\n",
    "\n",
    "```SQL\n",
    "SELECT ANIMAL_ID, NAME\n",
    "FROM ANIMAL_INS\n",
    "WHERE INTAKE_CONDITION = 'Sick'\n",
    "ORDER BY ANIMAL_ID;\n",
    "```\n",
    "\n",
    "<br>\n",
    "\n",
    "[어린 동물 찾기](https://school.programmers.co.kr/learn/courses/30/lessons/59037)\n",
    "\n",
    "```SQL\n",
    "SELECT ANIMAL_ID, NAME\n",
    "FROM ANIMAL_INS\n",
    "WHERE INTAKE_CONDITION != 'Aged'\n",
    "ORDER BY ANIMAL_ID;\n",
    "```\n",
    "\n",
    "<br>\n",
    "\n",
    "[동물의 아이디와 이름](https://school.programmers.co.kr/learn/courses/30/lessons/59403)\n",
    "\n",
    "```SQL\n",
    "SELECT ANIMAL_ID, NAME\n",
    "FROM ANIMAL_INS\n",
    "ORDER BY ANIMAL_ID;\n",
    "```\n",
    "\n",
    "<br>\n",
    "\n",
    "[여러 기준으로 정렬하기](https://school.programmers.co.kr/learn/courses/30/lessons/59404)\n",
    "\n",
    "```SQL\n",
    "SELECT ANIMAL_ID, NAME, DATETIME\n",
    "FROM ANIMAL_INS\n",
    "ORDER BY NAME, DATETIME DESC;\n",
    "```\n",
    "\n",
    "<br>\n",
    "\n",
    "[상위 n개 레코드](https://school.programmers.co.kr/learn/courses/30/lessons/59405)\n",
    "\n",
    "```SQL\n",
    "SELECT Name\n",
    "FROM ANIMAL_INS\n",
    "ORDER BY DATETIME\n",
    "LIMIT 1;\n",
    "```\n",
    "\n",
    "<br>\n",
    "\n",
    "[조건에 맞는 회원수 구하기](https://school.programmers.co.kr/learn/courses/30/lessons/131535)\n",
    "\n",
    "```SQL\n",
    "SELECT COUNT(*)\n",
    "FROM USER_INFO \n",
    "WHERE YEAR(JOINED) = 2021 AND AGE BETWEEN 20 AND 29;\n",
    "```\n",
    "\n"
   ]
  },
  {
   "cell_type": "markdown",
   "metadata": {
    "vscode": {
     "languageId": "plaintext"
    }
   },
   "source": [
    "2024-07-31\n",
    "\n",
    "[흉부외과 또는 일반외과 의사 목록 출력하기](https://school.programmers.co.kr/learn/courses/30/lessons/132203)\n",
    "\n",
    "\n",
    "```SQL\n",
    "SELECT DR_NAME, DR_ID, MCDP_CD, DATE_FORMAT(HIRE_YMD, '%Y-%m-%d') HIRE_YMD\n",
    "FROM DOCTOR \n",
    "WHERE MCDP_CD in ('CS' , 'GS')\n",
    "ORDER BY HIRE_YMD DESC, DR_NAME;\n",
    "```\n",
    "<br>\n",
    "\n",
    "\n",
    "[과일로 만든 아이스크림 고르기](https://school.programmers.co.kr/learn/courses/30/lessons/133025)\n",
    "\n",
    "```SQL\n",
    "SELECT FLAVOR\n",
    "FROM FIRST_HALF\n",
    "WHERE TOTAL_ORDER > 3000 AND FLAVOR in \n",
    "(SELECT FLAVOR\n",
    "FROM ICECREAM_INFO \n",
    "WHERE INGREDIENT_TYPE = 'fruit_based')\n",
    "ORDER BY TOTAL_ORDER DESC\n",
    "\n",
    "-- JOIN\n",
    "SELECT FH.FLAVOR\n",
    "FROM FIRST_HALF FH\n",
    "INNER JOIN ICECREAM_INFO II\n",
    "ON FH.FLAVOR = II.FLAVOR\n",
    "WHERE FH.TOTAL_ORDER > 3000\n",
    "AND II.INGREDIENT_TYPE = 'fruit_based'\n",
    "ORDER BY FH.TOTAL_ORDER DESC;\n",
    "\n",
    "```\n",
    "<br>\n",
    "\n",
    "\n",
    "[3월에 태어난 여성 회원 목록 출력하기](https://school.programmers.co.kr/learn/courses/30/lessons/131120)\n",
    "\n",
    "```SQL\n",
    "SELECT MEMBER_ID, MEMBER_NAME, GENDER, DATE_FORMAT(DATE_OF_BIRTH, '%Y-%m-%d') DATE_OF_BIRTH\n",
    "FROM MEMBER_PROFILE \n",
    "WHERE MONTH(DATE_OF_BIRTH) = 3 AND TLNO IS NOT NULL AND GENDER = 'w'\n",
    "ORDER BY MEMBER_ID\n",
    "```\n",
    "<br>"
   ]
  },
  {
   "cell_type": "code",
   "execution_count": null,
   "metadata": {
    "vscode": {
     "languageId": "plaintext"
    }
   },
   "outputs": [],
   "source": []
  },
  {
   "cell_type": "code",
   "execution_count": null,
   "metadata": {
    "vscode": {
     "languageId": "plaintext"
    }
   },
   "outputs": [],
   "source": []
  },
  {
   "cell_type": "code",
   "execution_count": null,
   "metadata": {
    "vscode": {
     "languageId": "plaintext"
    }
   },
   "outputs": [],
   "source": []
  },
  {
   "cell_type": "code",
   "execution_count": null,
   "metadata": {
    "vscode": {
     "languageId": "plaintext"
    }
   },
   "outputs": [],
   "source": []
  }
 ],
 "metadata": {
  "language_info": {
   "name": "python"
  }
 },
 "nbformat": 4,
 "nbformat_minor": 2
}
